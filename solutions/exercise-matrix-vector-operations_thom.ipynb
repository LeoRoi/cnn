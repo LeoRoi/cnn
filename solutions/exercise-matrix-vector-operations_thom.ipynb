{
 "cells": [
  {
   "cell_type": "code",
   "execution_count": 13,
   "metadata": {},
   "outputs": [],
   "source": [
    "import numpy as np"
   ]
  },
  {
   "cell_type": "markdown",
   "metadata": {
    "slideshow": {
     "slide_type": "slide"
    }
   },
   "source": [
    "# Machine Learning Fundamentals - Linear Algebra - Exercise: Matrix and Vector Operations"
   ]
  },
  {
   "cell_type": "markdown",
   "metadata": {
    "slideshow": {
     "slide_type": "slide"
    }
   },
   "source": [
    "## Table of Contents\n",
    "* [Introduction](#Introduction)\n",
    "* [Requirements](#Requirements) \n",
    "  * [Knowledge](#Knowledge) \n",
    "  * [Modules](#Python-Modules)\n",
    "  * [Data](#Data)\n",
    "* [Exercise: Pen and Paper Calculation](#Pen-and-Paper-Calculation)\n",
    "* [Exercise: Implementation of Basic Operations](#Implmentation-of-Basic-Operations)\n",
    "  * [Vector Addition](#Vector-Addition)\n",
    "  * [Vector Subtraction](#Vector-Subtraction)\n",
    "  * [Scalar Multiplication](#Scalar-Multiplication)\n",
    "  * [Dot Product](#Dot-Product)\n",
    "  * [Matrix Multiplication](#Matrix-Multiplication)\n",
    "  * [Transpose](#Transpose)\n",
    "* [Summary and Outlook](#Summary-and-Outlook)\n",
    "* [Literature](#Literature) \n",
    "* [Licenses](#Licenses) "
   ]
  },
  {
   "cell_type": "markdown",
   "metadata": {
    "slideshow": {
     "slide_type": "slide"
    }
   },
   "source": [
    "## Introduction\n",
    "This exercise tests knowledge in basics in linear algebra. Knowledge about matrices, vectors, and their operations are essential in understanding more complex machine learning topics, like neural networks. Safe handling of domain-specific notation and concepts is therefore necessary.  "
   ]
  },
  {
   "cell_type": "markdown",
   "metadata": {
    "slideshow": {
     "slide_type": "slide"
    }
   },
   "source": [
    "## Requirements\n",
    "\n",
    "### Knowledge\n",
    "\n",
    "- Chapter 2 of [Deep Learning](http://www.deeplearningbook.org/contents/ml.html) by Ian Goodfellow gives a brief introduction into the field\n",
    "- [Linear Algebra](http://joshua.smcvt.edu/linearalgebra/#current_version) by Jim Hefferson is a open-source textbook with a lot of good exercises\n",
    "- [Introduction to Linear Algebra](http://math.mit.edu/~gs/linearalgebra/) by Gilbert Strang ist a good domain specific textbook\n",
    "- [Coding the Matrix: Linear Algebra through Applications to Computer Science](http://codingthematrix.com/) by Philip Klein is focused on a computer science viewpoint"
   ]
  },
  {
   "cell_type": "markdown",
   "metadata": {
    "slideshow": {
     "slide_type": "slide"
    }
   },
   "source": [
    "### Python Modules"
   ]
  },
  {
   "cell_type": "code",
   "execution_count": 14,
   "metadata": {
    "slideshow": {
     "slide_type": "slide"
    }
   },
   "outputs": [],
   "source": [
    "# External Modules\n",
    "import numpy as np"
   ]
  },
  {
   "cell_type": "markdown",
   "metadata": {
    "slideshow": {
     "slide_type": "slide"
    }
   },
   "source": [
    "### Data\n",
    "Given are the following matrice:\n",
    "\n",
    "\\begin{equation}\n",
    "    A =\n",
    "    \\begin{pmatrix}\n",
    "    4 & 4 & 5 \\\\\n",
    "    2 & 1 & 7 \\\\\n",
    "    4 & 8 & 3\n",
    "    \\end{pmatrix}\n",
    "    ,\n",
    "    B =\n",
    "    \\begin{pmatrix}\n",
    "    1 & 6 \\\\\n",
    "    3 & 1 \\\\\n",
    "    5 & 2\n",
    "    \\end{pmatrix}\n",
    "    ,\n",
    "    C =\n",
    "    \\begin{pmatrix}\n",
    "    1 & 4 & 4 \\\\\n",
    "    3 & 1 & 2\\\\\n",
    "    6 & 7 & 1\n",
    "    \\end{pmatrix}\n",
    "\\end{equation}\n",
    "\n",
    "\n",
    "and following vectors:\n",
    "\n",
    "\\begin{equation}\n",
    "    \\vec{x} =\n",
    "    \\begin{pmatrix}\n",
    "    9 \\\\\n",
    "    5 \\\\\n",
    "    7\n",
    "    \\end{pmatrix}\n",
    "    ,\n",
    "    \\vec{y} =\n",
    "    \\begin{pmatrix}\n",
    "    3 \\\\\n",
    "    1 \\\\\n",
    "    5\n",
    "    \\end{pmatrix}\n",
    "\\end{equation}"
   ]
  },
  {
   "cell_type": "code",
   "execution_count": 15,
   "metadata": {
    "slideshow": {
     "slide_type": "slide"
    }
   },
   "outputs": [],
   "source": [
    "# Matrices ([1,2,3] = shape: 3,1 = 3 rows )\n",
    "A = ([4,4,5],\n",
    "     [2,1,7],\n",
    "     [4,8,3])\n",
    "\n",
    "B = ([1,6],\n",
    "     [3,1],\n",
    "     [5,2])\n",
    "\n",
    "C = ([1,4,4],\n",
    "     [3,1,2],\n",
    "     [6,7,1])\n",
    "\n",
    "# Vectors\n",
    "x = (9,5,7)\n",
    "y = (3,1,5)"
   ]
  },
  {
   "cell_type": "markdown",
   "metadata": {
    "slideshow": {
     "slide_type": "slide"
    }
   },
   "source": [
    "## Pen and Paper Calculation\n",
    "Solve following calculations by hand or write some latex in that notebook.\n",
    "\n",
    "1.  $\\vec{x} * \\vec{y}$ (dot or inner product)\n",
    "2.  $\\vec{x} * \\vec{y}^T$\n",
    "3.  $A * B$\n",
    "4.  $B * A$\n",
    "5.  $A * C$\n",
    "6.  $C * A$\n",
    "7.  $(C^T * A^T)T$\n",
    "8.  $A \\circ C$ (Hadamard or Schur product)\n",
    "9.  $ \\left  \\langle A,C \\right \\rangle_F $ (Frobenius inner product)"
   ]
  },
  {
   "cell_type": "markdown",
   "metadata": {},
   "source": [
    "## Solved Calculations:\n",
    "\n",
    "\n",
    "1. (hier dot product == inner product) -> Vektor multiplikation wäre einfach die Zahlen der Vektoren mit den gleichen Indezes multiplizieren\n",
    "warum geht das so in Numpy per 3x1 * 3x1 -> numpy broadcasted (ggf.) sodass es passt\n",
    "(ist hier so richtig)\n",
    "\n",
    "\\begin{equation}\n",
    "    \\vec{x} * \\vec{y} = \\begin{pmatrix} 9 \\\\ 5 \\\\ 7 \\end{pmatrix} * \\begin{pmatrix} 3 \\\\ 1 \\\\ 5 \\end{pmatrix} = 9 * 3 + 5 * 1 + 7 * 5 = 67\n",
    "\\end{equation}\n",
    "\n",
    "2. (ist so richtig)\n",
    "\\begin{equation} \n",
    "    \\vec{x} * \\vec{y}^T = \\begin{pmatrix} 9 \\\\ 5 \\\\ 7 \\end{pmatrix} * \\begin{pmatrix} 3 \\\\ 1 \\\\ 5 \\end{pmatrix}^T = \n",
    "    \\begin{pmatrix} 27 & 9 & 45 \\\\ 15 & 5 & 25 \\\\ 21 & 7 & 35 \\end{pmatrix}\n",
    "\\end{equation}\n",
    "\n",
    "3.\n",
    "\\begin{equation}\n",
    "    A * B = \\begin{pmatrix} 4 & 4 & 5 \\\\ 2 & 1 & 7 \\\\ 4 & 8 & 3 \\end{pmatrix} * \\begin{pmatrix} 1 & 6 \\\\ 3 & 1 \\\\ 5 & 2 \\end{pmatrix} = \n",
    "    \\begin{pmatrix} 4*1+4*3+5*5 & 4*6+4*1+5*2 \\\\ 2*1+1*3+7*5 & 2*6+1*1+7*2 \\\\ 4*1+8*3+3*5 & 4*6+8*1+3*2 \\end{pmatrix} =\n",
    "    \\begin{pmatrix} 41 & 38 \\\\ 40 & 27 \\\\ 43 & 38 \\end{pmatrix}\n",
    "\\end{equation}\n",
    "\n",
    "4.\n",
    "\\begin{equation}\n",
    "    B * A = \\begin{pmatrix} 1 & 6 \\\\ 3 & 1 \\\\ 5 & 2 \\end{pmatrix} * \\begin{pmatrix} 4 & 4 & 5 \\\\ 2 & 1 & 7 \\\\ 4 & 8 & 3 \\end{pmatrix} =\n",
    "    3x2 * 3x3 = nicht möglich\n",
    "\\end{equation}\n",
    "\n",
    "5.\n",
    "\\begin{equation}\n",
    "    A*C = \\begin{pmatrix} 4 & 4 & 5 \\\\ 2 & 1 & 7 \\\\ 4 & 8 & 3 \\end{pmatrix} * \\begin{pmatrix} 1 & 4 & 4 \\\\ 3 & 1 & 2 \\\\ 6 & 7 & 1 \\end{pmatrix} =\n",
    "    \\begin{pmatrix} 4*1+4*3+5*6 & 4*4+4*1+5*7 & 4*4+4*2+5*1 \\\\ 2*1+1*3+7*6 & 2*4+1*1+7*7 & 2*4+1*2+7*1 \\\\ 4*1+8*3+3*6 & 4*4+8*1+3*7 & 4*4+8*2+3*1 \\end{pmatrix}\n",
    "    = \\begin{pmatrix} 46 & 55 & 29 \\\\ 47 & 58 & 17 \\\\ 46 & 45 & 35\\end{pmatrix}\n",
    "\\end{equation}\n",
    "\n",
    "\n",
    "6.\n",
    "\\begin{equation}\n",
    "    C*A = \\begin{pmatrix} 1 & 4 & 4 \\\\ 3 & 1 & 2 \\\\ 6 & 7 & 1 \\end{pmatrix} * \\begin{pmatrix} 4 & 4 & 5 \\\\ 2 & 1 & 7 \\\\ 4 & 8 & 3 \\end{pmatrix} \n",
    "    = \\begin{pmatrix} 1*4+4*2+4*4 & 1*4+4*4+4*8 & 1*5+4*7+4*3 \\\\ 3*4+1*2+2*4 & 3*4+1*1+2*8 & 3*5+1*7+2*3 \\\\ 6*4+7*2+1*4 & 6*4+7*1+1*8 & 6*5+7*7+1*3\\end{pmatrix} = \\begin{pmatrix} 28 & 40 & 45 \\\\ 22 & 29 & 28 \\\\ 42 & 39 & 82 \\end{pmatrix} \n",
    "\\end{equation}\n",
    "\n",
    "7.\n",
    "\\begin{equation}\n",
    "    (C^T * A^T)^T = A * C = 5. Aufgabe\n",
    "\\end{equation}\n",
    "\n",
    "8.\n",
    "\\begin{equation}\n",
    "    A \\circ B = \\begin{pmatrix} 4 & 4 & 5 \\\\ 2 & 1 & 7 \\\\ 4 & 8 & 3 \\end{pmatrix} \\circ \\begin{pmatrix} 1 & 4 & 4 \\\\ 3 & 1 & 2 \\\\ 6 & 7 & 1 \\end{pmatrix} = \\begin{pmatrix} 4*1 & 4*4 & 5*4 \\\\ 2*3 & 1*1 & 7*2 \\\\ 4*6 & 8*7 & 3*1\\end{pmatrix} \n",
    "    = \\begin{pmatrix} 4 & 16 & 20 \\\\ 6 & 1 & 14 \\\\ 24 & 56 & 3\\end{pmatrix}\n",
    "\\end{equation}\n",
    "\n",
    "\n",
    "9.\n",
    "\\begin{equation}\n",
    "    \\left \\langle A,C \\right \\rangle_F = \\left \\langle \\begin{pmatrix} 4 & 4 & 5 \\\\ 2 & 1 & 7 \\\\ 4 & 8 & 3 \\end{pmatrix},\\begin{pmatrix} 1 & 4 & 4 \\\\ 3 & 1 & 2 \\\\ 6 & \n",
    "    7 & 1 \\end{pmatrix} \\right \\rangle_F = \\sum\\limits_{i=1}^m \\sum\\limits_{j=1}^n a_{ij} c_{ij} = \\sum\\limits_{i=1}^3 \\sum\\limits_{j=1}^3 a_{ij} c_{ij} =\n",
    "    4*1+4*4+5*4+2*3+1*1+7*2+4*6+8*7+3*1 = 144\n",
    "\\end{equation}"
   ]
  },
  {
   "cell_type": "code",
   "execution_count": 16,
   "metadata": {},
   "outputs": [],
   "source": [
    "# wenn wir \"nur\" einen Vektor mit Namen einführen wollen -> \\vec{x}\n",
    "# wenn wir in einen Vektor / Matrix Zahlen / Zeichen einführen wollen -> \\begin{pmatrix} \\ end{pmatrix}"
   ]
  },
  {
   "cell_type": "markdown",
   "metadata": {
    "slideshow": {
     "slide_type": "slide"
    }
   },
   "source": [
    "## Implmentation of Basic Operations\n",
    "Implement the following functions using the data structure `List` only. The results should be the same as the corresponding Numpy implementation."
   ]
  },
  {
   "cell_type": "markdown",
   "metadata": {
    "slideshow": {
     "slide_type": "slide"
    }
   },
   "source": [
    "### Vector Addition"
   ]
  },
  {
   "cell_type": "code",
   "execution_count": 17,
   "metadata": {
    "slideshow": {
     "slide_type": "slide"
    }
   },
   "outputs": [],
   "source": [
    "x =[1,2,3]\n",
    "y =[1,2,3]\n",
    "def vector_add(a, b):\n",
    "    ''' Adds two given vectors a and b: https://en.wikipedia.org/wiki/Euclidean_vector\n",
    "    \n",
    "    params:\n",
    "        a: A list representing vector a\n",
    "        b: A list representing vector b\n",
    "    returns:\n",
    "        [x_1 + y_1, x_2 + y_2, ... , x_n + y_n]\n",
    "    '''\n",
    "    return [a[i]+b[i] for i in range(0,len(a))]\n",
    "\n",
    "# Test\n",
    "np.testing.assert_array_almost_equal(vector_add(x,y), np.add(x,y), verbose=True)"
   ]
  },
  {
   "cell_type": "markdown",
   "metadata": {
    "slideshow": {
     "slide_type": "slide"
    }
   },
   "source": [
    "### Vector Subtraction"
   ]
  },
  {
   "cell_type": "code",
   "execution_count": 18,
   "metadata": {
    "slideshow": {
     "slide_type": "slide"
    }
   },
   "outputs": [],
   "source": [
    "def vector_sub(a, b):\n",
    "    ''' Subtracts two given vectors a and b: https://en.wikipedia.org/wiki/Euclidean_vector\n",
    "    \n",
    "    params:\n",
    "        a: A list representing vector a\n",
    "        b: A list representing vector b\n",
    "    returns:\n",
    "        [x_1 - y_1, x_2 - y_2, ... , x_n - y_n]\n",
    "    '''\n",
    "    return [a[i]-b[i] for i in range(0,len(a))]\n",
    "\n",
    "# Testing\n",
    "np.testing.assert_array_almost_equal(vector_sub(x,y), np.subtract(x,y), verbose=True)"
   ]
  },
  {
   "cell_type": "markdown",
   "metadata": {
    "slideshow": {
     "slide_type": "slide"
    }
   },
   "source": [
    "### Scalar Multiplication"
   ]
  },
  {
   "cell_type": "code",
   "execution_count": 19,
   "metadata": {
    "slideshow": {
     "slide_type": "slide"
    }
   },
   "outputs": [],
   "source": [
    "A = [[1,2,3],[1,2,3],[1,2,3]]\n",
    "def scalar_mul(r, A):\n",
    "    ''' Multiply each element of a matrix or vector by a scalar 'r': https://en.wikipedia.org/wiki/Scalar_multiplication\n",
    "    \n",
    "    params:\n",
    "        r: Scalar\n",
    "        A: Vector or matrix\n",
    "    returns:\n",
    "         A vector or matrix with the same dimesion like 'A' but each element multiplied by r\n",
    "    '''\n",
    "    B=A.copy()\n",
    "    for m in range(0,len(A)):\n",
    "        for n in range(0,len(A[0])):\n",
    "            B[m][n] = r * B[m][n]\n",
    "    return B\n",
    "\n",
    "# Testing\n",
    "sca = 3\n",
    "np.testing.assert_array_almost_equal(np.multiply(sca,A),scalar_mul(sca,A), verbose=True) # actually wrong sequence of tests"
   ]
  },
  {
   "cell_type": "markdown",
   "metadata": {},
   "source": [
    "## Dot Product"
   ]
  },
  {
   "cell_type": "code",
   "execution_count": 20,
   "metadata": {
    "slideshow": {
     "slide_type": "slide"
    }
   },
   "outputs": [],
   "source": [
    "def vec_dot(a, b):\n",
    "    ''' Sum of the product of corresponding elements: https://en.wikipedia.org/wiki/Dot_product\n",
    "    \n",
    "    params:\n",
    "        a: Vector \n",
    "        b: Vector\n",
    "    returns:\n",
    "        x_1 * y_1 + x_2 * y_2 + ... + x_n * y_n \n",
    "    ''' \n",
    "    return sum([a[m] * b[m] for m in range(0,len(a))])\n",
    "\n",
    "# Testing\n",
    "np.testing.assert_array_almost_equal(vec_dot(x,y), np.dot(x,y), verbose=True)"
   ]
  },
  {
   "cell_type": "markdown",
   "metadata": {
    "slideshow": {
     "slide_type": "slide"
    }
   },
   "source": [
    "### Matrix Multiplication"
   ]
  },
  {
   "cell_type": "code",
   "execution_count": 21,
   "metadata": {
    "slideshow": {
     "slide_type": "slide"
    }
   },
   "outputs": [],
   "source": [
    "def matrix_mult(A, B):\n",
    "    ''' Computes the product of two matrices: https://en.wikipedia.org/wiki/Matrix_multiplication \n",
    "    \n",
    "    params:\n",
    "        A: Matrix with dimensions NxP\n",
    "        B: Matrix with dimensions PxM\n",
    "    returns:\n",
    "        NxM matrix with each element c_i_j = a_i_1 * b_1_j + ... + a_i_p * b_p_j\n",
    "    ''' \n",
    "   \n",
    "    result = [[0]*len(B[0])]*len(A)\n",
    "    \n",
    "    for m in range(0,len(A)):\n",
    "        for n in range(0,len(B[0])):\n",
    "            result[m][n] = vec_dot(A[m],[B[i][n]for i in range(0,len(B[0]))])\n",
    "    return result\n",
    "\n",
    "A = [[1,2,3],[1,2,3],[1,2,3]]\n",
    "B = [[1,2,3],[1,2,3],[1,2,3]]\n",
    "\n",
    "# Testing\n",
    "np.testing.assert_array_almost_equal(np.dot(A,B),matrix_mult(A,B), verbose=True)"
   ]
  },
  {
   "cell_type": "markdown",
   "metadata": {
    "slideshow": {
     "slide_type": "slide"
    }
   },
   "source": [
    "### Transpose"
   ]
  },
  {
   "cell_type": "code",
   "execution_count": 22,
   "metadata": {
    "slideshow": {
     "slide_type": "slide"
    }
   },
   "outputs": [],
   "source": [
    "from copy import deepcopy\n",
    "def matrix_transpose(A):\n",
    "    ''' Flips the matrix over its diagonal, switches the row and column indices of the matrix: https://en.wikipedia.org/wiki/Transpose\n",
    "    \n",
    "    params:\n",
    "        A: Matrix \n",
    "    returns:\n",
    "        Transpose A^T of given matrix A\n",
    "    ''' \n",
    "    result = [[0 for row in range(len(A))] for col in range(len(A[0]))]\n",
    "    for m in range(0,len(A)):\n",
    "        for n in range(0,len(A[0])):\n",
    "            result[m][n] = A[n][m]\n",
    "    return result\n",
    "\n",
    "# Testing\n",
    "A = [[1,2,3],[1,2,3],[1,2,3]]\n",
    "np.testing.assert_array_almost_equal(matrix_transpose(A), np.transpose(A), verbose=True)"
   ]
  },
  {
   "cell_type": "markdown",
   "metadata": {
    "slideshow": {
     "slide_type": "slide"
    }
   },
   "source": [
    "## Summary and Outlook\n",
    "\n",
    "This exercise covered basic operations on vectors and matrices. If the exercise was too complicated, consider the sources mentioned above for a recap. "
   ]
  },
  {
   "cell_type": "markdown",
   "metadata": {
    "slideshow": {
     "slide_type": "slide"
    }
   },
   "source": [
    "## Licenses\n",
    "\n",
    "### Notebook License (CC-BY-SA 4.0)\n",
    "\n",
    "*The following license applies to the complete notebook, including code cells. It does however not apply to any referenced external media (e.g., images).*\n",
    "\n",
    "Exercise: Matrix and Vector Operations <br/>\n",
    "by Benjamin Voigt <br/>\n",
    "is licensed under a [Creative Commons Attribution-ShareAlike 4.0 International License](http://creativecommons.org/licenses/by-sa/4.0/).<br/>\n",
    "Based on a work at https://gitlab.com/deep.TEACHING.\n",
    "\n",
    "\n",
    "### Code License (MIT)\n",
    "\n",
    "*The following license only applies to code cells of the notebook.*\n",
    "\n",
    "Copyright 2018 Benjamin Voigt\n",
    "\n",
    "Permission is hereby granted, free of charge, to any person obtaining a copy of this software and associated documentation files (the \"Software\"), to deal in the Software without restriction, including without limitation the rights to use, copy, modify, merge, publish, distribute, sublicense, and/or sell copies of the Software, and to permit persons to whom the Software is furnished to do so, subject to the following conditions:\n",
    "\n",
    "The above copyright notice and this permission notice shall be included in all copies or substantial portions of the Software.\n",
    "\n",
    "THE SOFTWARE IS PROVIDED \"AS IS\", WITHOUT WARRANTY OF ANY KIND, EXPRESS OR IMPLIED, INCLUDING BUT NOT LIMITED TO THE WARRANTIES OF MERCHANTABILITY, FITNESS FOR A PARTICULAR PURPOSE AND NONINFRINGEMENT. IN NO EVENT SHALL THE AUTHORS OR COPYRIGHT HOLDERS BE LIABLE FOR ANY CLAIM, DAMAGES OR OTHER LIABILITY, WHETHER IN AN ACTION OF CONTRACT, TORT OR OTHERWISE, ARISING FROM, OUT OF OR IN CONNECTION WITH THE SOFTWARE OR THE USE OR OTHER DEALINGS IN THE SOFTWARE."
   ]
  }
 ],
 "metadata": {
  "celltoolbar": "Slideshow",
  "kernelspec": {
   "display_name": "Python 3",
   "language": "python",
   "name": "python3"
  },
  "language_info": {
   "codemirror_mode": {
    "name": "ipython",
    "version": 3
   },
   "file_extension": ".py",
   "mimetype": "text/x-python",
   "name": "python",
   "nbconvert_exporter": "python",
   "pygments_lexer": "ipython3",
   "version": "3.6.7"
  }
 },
 "nbformat": 4,
 "nbformat_minor": 2
}
