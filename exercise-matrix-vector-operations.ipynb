{
 "cells": [
  {
   "cell_type": "markdown",
   "metadata": {
    "slideshow": {
     "slide_type": "slide"
    }
   },
   "source": [
    "# Machine Learning Fundamentals - Linear Algebra - Exercise: Matrix and Vector Operations"
   ]
  },
  {
   "cell_type": "markdown",
   "metadata": {
    "slideshow": {
     "slide_type": "slide"
    }
   },
   "source": [
    "## Table of Contents\n",
    "* [Introduction](#Introduction)\n",
    "* [Requirements](#Requirements) \n",
    "  * [Knowledge](#Knowledge) \n",
    "  * [Modules](#Python-Modules)\n",
    "  * [Data](#Data)\n",
    "* [Exercise: Pen and Paper Calculation](#Pen-and-Paper-Calculation)\n",
    "* [Exercise: Implementation of Basic Operations](#Implmentation-of-Basic-Operations)\n",
    "  * [Vector Addition](#Vector-Addition)\n",
    "  * [Vector Subtraction](#Vector-Subtraction)\n",
    "  * [Scalar Multiplication](#Scalar-Multiplication)\n",
    "  * [Dot Product](#Dot-Product)\n",
    "  * [Matrix Multiplication](#Matrix-Multiplication)\n",
    "  * [Transpose](#Transpose)\n",
    "* [Summary and Outlook](#Summary-and-Outlook)\n",
    "* [Literature](#Literature) \n",
    "* [Licenses](#Licenses) "
   ]
  },
  {
   "cell_type": "markdown",
   "metadata": {
    "slideshow": {
     "slide_type": "slide"
    }
   },
   "source": [
    "## Introduction\n",
    "This exercise tests knowledge in basics in linear algebra. Knowledge about matrices, vectors, and their operations are essential in understanding more complex machine learning topics, like neural networks. Safe handling of domain-specific notation and concepts is therefore necessary.  "
   ]
  },
  {
   "cell_type": "markdown",
   "metadata": {
    "slideshow": {
     "slide_type": "slide"
    }
   },
   "source": [
    "## Requirements\n",
    "\n",
    "### Knowledge\n",
    "\n",
    "- Chapter 2 of [Deep Learning](http://www.deeplearningbook.org/contents/ml.html) by Ian Goodfellow gives a brief introduction into the field\n",
    "- [Linear Algebra](http://joshua.smcvt.edu/linearalgebra/#current_version) by Jim Hefferson is a open-source textbook with a lot of good exercises\n",
    "- [Introduction to Linear Algebra](http://math.mit.edu/~gs/linearalgebra/) by Gilbert Strang ist a good domain specific textbook\n",
    "- [Coding the Matrix: Linear Algebra through Applications to Computer Science](http://codingthematrix.com/) by Philip Klein is focused on a computer science viewpoint"
   ]
  },
  {
   "cell_type": "markdown",
   "metadata": {
    "slideshow": {
     "slide_type": "slide"
    }
   },
   "source": [
    "### Python Modules"
   ]
  },
  {
   "cell_type": "code",
   "execution_count": 50,
   "metadata": {
    "slideshow": {
     "slide_type": "slide"
    }
   },
   "outputs": [],
   "source": [
    "# External Modules\n",
    "import numpy as np"
   ]
  },
  {
   "cell_type": "markdown",
   "metadata": {
    "slideshow": {
     "slide_type": "slide"
    }
   },
   "source": [
    "### Data\n",
    "Given are the following matrice:\n",
    "\n",
    "\\begin{equation}\n",
    "    A =\n",
    "    \\begin{pmatrix}\n",
    "    4 & 4 & 5 \\\\\n",
    "    2 & 1 & 7 \\\\\n",
    "    4 & 8 & 3\n",
    "    \\end{pmatrix}\n",
    "    ,\n",
    "    B =\n",
    "    \\begin{pmatrix}\n",
    "    1 & 6 \\\\\n",
    "    3 & 1 \\\\\n",
    "    5 & 2\n",
    "    \\end{pmatrix}\n",
    "    ,\n",
    "    C =\n",
    "    \\begin{pmatrix}\n",
    "    1 & 4 & 4 \\\\\n",
    "    3 & 1 & 2\\\\\n",
    "    6 & 7 & 1\n",
    "    \\end{pmatrix}\n",
    "\\end{equation}\n",
    "\n",
    "\n",
    "and following vectors:\n",
    "\n",
    "\\begin{equation}\n",
    "    \\vec{x} =\n",
    "    \\begin{pmatrix}\n",
    "    9 \\\\\n",
    "    5 \\\\\n",
    "    7\n",
    "    \\end{pmatrix}\n",
    "    ,\n",
    "    \\vec{y} =\n",
    "    \\begin{pmatrix}\n",
    "    3 \\\\\n",
    "    1 \\\\\n",
    "    5\n",
    "    \\end{pmatrix}\n",
    "\\end{equation}"
   ]
  },
  {
   "cell_type": "code",
   "execution_count": 51,
   "metadata": {
    "slideshow": {
     "slide_type": "slide"
    }
   },
   "outputs": [],
   "source": [
    "# Matrices /tuple of lists\n",
    "A = ([4,4,5],\n",
    "     [2,1,7],\n",
    "     [4,8,3])\n",
    "\n",
    "B = ([1,6],\n",
    "     [3,1],\n",
    "     [5,2])\n",
    "\n",
    "C = ([1,4,4],\n",
    "     [3,1,2],\n",
    "     [6,7,1])\n",
    "\n",
    "# Vectors /tuple\n",
    "x = (9,5,7)\n",
    "y = (3,1,5)"
   ]
  },
  {
   "cell_type": "markdown",
   "metadata": {
    "slideshow": {
     "slide_type": "slide"
    }
   },
   "source": [
    "## Pen and Paper Calculation\n",
    "Solve following calculations by hand or write some latex in that notebook.\n",
    "\n",
    "1.  $\\vec{x} * \\vec{y}$ (dot or inner product)\n",
    "2.  $\\vec{x} * \\vec{y}^T$\n",
    "3.  $A * B$\n",
    "4.  $B * A$\n",
    "5.  $A * C$\n",
    "6.  $C * A$\n",
    "7.  $(C^T * A^T)T$\n",
    "8.  $A \\circ C$ (Hadamard or Schur product)\n",
    "9.  $ \\left  \\langle A,C \\right \\rangle_F $ (Frobenius inner product)"
   ]
  },
  {
   "cell_type": "code",
   "execution_count": 52,
   "metadata": {
    "slideshow": {
     "slide_type": "-"
    }
   },
   "outputs": [
    {
     "data": {
      "text/plain": [
       "'\\nx*y =\\n(9, 5, 7) * (3,1,5) =\\n9*3 + 5*1 + 7*5 =\\n27 + 5 + 35 =\\n67 =\\nx * yT\\n'"
      ]
     },
     "execution_count": 52,
     "metadata": {},
     "output_type": "execute_result"
    }
   ],
   "source": [
    "'''\n",
    "x*y =\n",
    "(9, 5, 7) * (3,1,5) =\n",
    "9*3 + 5*1 + 7*5 =\n",
    "27 + 5 + 35 =\n",
    "67 =\n",
    "x * yT\n",
    "'''"
   ]
  },
  {
   "cell_type": "code",
   "execution_count": 53,
   "metadata": {},
   "outputs": [
    {
     "data": {
      "text/plain": [
       "'\\nA = ([4,4,5], = 3x3\\n     [2,1,7],\\n     [4,8,3])\\n\\nB = ([1,6], = 3x2\\n     [3,1],\\n     [5,2])\\n\\nA*B = 3x3 * 3x2 = 3x2\\nrow * col\\n\\n'"
      ]
     },
     "execution_count": 53,
     "metadata": {},
     "output_type": "execute_result"
    }
   ],
   "source": [
    "'''\n",
    "A = ([4,4,5], = 3x3\n",
    "     [2,1,7],\n",
    "     [4,8,3])\n",
    "\n",
    "B = ([1,6], = 3x2\n",
    "     [3,1],\n",
    "     [5,2])\n",
    "\n",
    "A*B = 3x3 * 3x2 = 3x2\n",
    "row * col\n",
    "\n",
    "'''"
   ]
  },
  {
   "cell_type": "code",
   "execution_count": 54,
   "metadata": {},
   "outputs": [
    {
     "data": {
      "text/plain": [
       "'\\nA = ([4,4,5],\\n     [2,1,7],\\n     [4,8,3])\\n\\nAT  4,2,4\\n    4,1,8\\n    5,7,3\\n    \\ndiagonal mirroring\\n'"
      ]
     },
     "execution_count": 54,
     "metadata": {},
     "output_type": "execute_result"
    }
   ],
   "source": [
    "'''\n",
    "A = ([4,4,5],\n",
    "     [2,1,7],\n",
    "     [4,8,3])\n",
    "\n",
    "AT  4,2,4\n",
    "    4,1,8\n",
    "    5,7,3\n",
    "    \n",
    "diagonal mirroring\n",
    "'''"
   ]
  },
  {
   "cell_type": "code",
   "execution_count": 55,
   "metadata": {},
   "outputs": [
    {
     "data": {
      "text/plain": [
       "'\\nhadamar or shur product\\n\\nA = ([4,4,5],\\n     [2,1,7],\\n     [4,8,3])\\n    o\\nC = ([1,4,4],\\n     [3,1,2],\\n     [6,7,1])\\n    =\\n    1*4, 4*4, 5*4\\n    6, 1, 14\\n    24, 56, 3\\n'"
      ]
     },
     "execution_count": 55,
     "metadata": {},
     "output_type": "execute_result"
    }
   ],
   "source": [
    "'''\n",
    "hadamar or shur product\n",
    "\n",
    "A = ([4,4,5],\n",
    "     [2,1,7],\n",
    "     [4,8,3])\n",
    "    o\n",
    "C = ([1,4,4],\n",
    "     [3,1,2],\n",
    "     [6,7,1])\n",
    "    =\n",
    "    1*4, 4*4, 5*4\n",
    "    6, 1, 14\n",
    "    24, 56, 3\n",
    "'''"
   ]
  },
  {
   "cell_type": "code",
   "execution_count": 56,
   "metadata": {},
   "outputs": [
    {
     "data": {
      "text/plain": [
       "'\\nfrobenius inner product\\n    like shur sum\\n    \\n4+16+20\\n+6+1+14\\n+24+56+3\\n=\\n40+21+83\\n=\\n144\\n'"
      ]
     },
     "execution_count": 56,
     "metadata": {},
     "output_type": "execute_result"
    }
   ],
   "source": [
    "'''\n",
    "frobenius inner product\n",
    "    like shur sum\n",
    "    \n",
    "4+16+20\n",
    "+6+1+14\n",
    "+24+56+3\n",
    "=\n",
    "40+21+83\n",
    "=\n",
    "144\n",
    "'''"
   ]
  },
  {
   "cell_type": "markdown",
   "metadata": {
    "slideshow": {
     "slide_type": "slide"
    }
   },
   "source": [
    "## Implmentation of Basic Operations\n",
    "Implement the following functions using the data structure `List` only. The results should be the same as the corresponding Numpy implementation."
   ]
  },
  {
   "cell_type": "markdown",
   "metadata": {
    "slideshow": {
     "slide_type": "slide"
    }
   },
   "source": [
    "### Vector Addition"
   ]
  },
  {
   "cell_type": "code",
   "execution_count": 57,
   "metadata": {
    "slideshow": {
     "slide_type": "slide"
    }
   },
   "outputs": [
    {
     "name": "stdout",
     "output_type": "stream",
     "text": [
      "[12, 6, 12]\n"
     ]
    }
   ],
   "source": [
    "def vector_add(a, b):\n",
    "    ''' Adds two given vectors a and b: https://en.wikipedia.org/wiki/Euclidean_vector\n",
    "    \n",
    "    params:\n",
    "        a: A list representing vector a\n",
    "        b: A list representing vector b\n",
    "    returns:\n",
    "        [x_1 + y_1, x_2 + y_2, ... , x_n + y_n]\n",
    "    '''\n",
    "    \n",
    "    acc = []\n",
    "    for i in range(len(a)):\n",
    "        acc += [a[i] + b[i]]\n",
    "        \n",
    "#     raise NotImplementedError\n",
    "    return acc\n",
    "\n",
    "# Test\n",
    "np.testing.assert_array_almost_equal(vector_add(x,y), np.add(x,y), verbose=True)\n",
    "print(vector_add(x,y))"
   ]
  },
  {
   "cell_type": "markdown",
   "metadata": {
    "slideshow": {
     "slide_type": "slide"
    }
   },
   "source": [
    "### Vector Subtraction"
   ]
  },
  {
   "cell_type": "code",
   "execution_count": 58,
   "metadata": {
    "slideshow": {
     "slide_type": "slide"
    }
   },
   "outputs": [
    {
     "name": "stdout",
     "output_type": "stream",
     "text": [
      "[6, 4, 2]\n"
     ]
    }
   ],
   "source": [
    "def vector_sub(a, b):\n",
    "    ''' Subtracts two given vectors a and b: https://en.wikipedia.org/wiki/Euclidean_vector\n",
    "    \n",
    "    params:\n",
    "        a: A list representing vector a\n",
    "        b: A list representing vector b\n",
    "    returns:\n",
    "        [x_1 - y_1, x_2 - y_2, ... , x_n - y_n]\n",
    "    '''\n",
    "#     raise NotImplementedError\n",
    "\n",
    "# size = len(a)\n",
    "#     acc = [None] * size\n",
    "#     for i in range(size):\n",
    "#         acc[i] = [a[i] - b[i]]\n",
    "\n",
    "    acc = []\n",
    "    for i in range(len(a)):\n",
    "        acc += [a[i] - b[i]]\n",
    "        \n",
    "    return acc\n",
    "\n",
    "# Testing\n",
    "np.testing.assert_array_almost_equal(vector_sub(x,y), np.subtract(x,y), verbose=True)\n",
    "print(vector_sub(x,y))"
   ]
  },
  {
   "cell_type": "markdown",
   "metadata": {
    "slideshow": {
     "slide_type": "slide"
    }
   },
   "source": [
    "### Scalar Multiplication"
   ]
  },
  {
   "cell_type": "code",
   "execution_count": 76,
   "metadata": {
    "slideshow": {
     "slide_type": "slide"
    }
   },
   "outputs": [
    {
     "name": "stdout",
     "output_type": "stream",
     "text": [
      "([324, 324, 405], [162, 81, 567], [324, 648, 243])\n"
     ]
    }
   ],
   "source": [
    "def scalar_mul(r, A):\n",
    "    ''' Multiply each element of a matrix or vector by a scalar 'r': https://en.wikipedia.org/wiki/Scalar_multiplication\n",
    "    \n",
    "    params:\n",
    "        r: Scalar\n",
    "        A: Vector or matrix\n",
    "        \n",
    "        A = ([4,4,5],\n",
    "             [2,1,7],\n",
    "             [4,8,3])\n",
    "             \n",
    "        x = (9,5,7)\n",
    "             \n",
    "    returns:\n",
    "         A vector or matrix with the same dimesion like 'A' but each element multiplied by r\n",
    "    '''\n",
    "#     raise NotImplementedError\n",
    "    if isinstance(A[0], int):\n",
    "        acc = []\n",
    "        for i in range(len(A)):\n",
    "            acc += [ A[i] * r ]\n",
    "        return acc\n",
    "    else:\n",
    "        for i in range(len(A)):\n",
    "            for j in range(len(A[i])):\n",
    "                A[i][j] *= r            \n",
    "        return A\n",
    "\n",
    "# Testing\n",
    "sca = 3\n",
    "print(scalar_mul(sca,A))\n",
    "# np.testing.assert_array_almost_equal(scalar_mul(sca,A), np.multiply(sca,A), verbose=True)\n",
    "\n"
   ]
  },
  {
   "cell_type": "markdown",
   "metadata": {
    "slideshow": {
     "slide_type": "slide"
    }
   },
   "source": [
    "### Dot Product"
   ]
  },
  {
   "cell_type": "code",
   "execution_count": 79,
   "metadata": {
    "slideshow": {
     "slide_type": "slide"
    }
   },
   "outputs": [
    {
     "name": "stdout",
     "output_type": "stream",
     "text": [
      "67\n"
     ]
    }
   ],
   "source": [
    "def vec_dot(a, b):\n",
    "    ''' Sum of the product of corresponding elements: https://en.wikipedia.org/wiki/Dot_product\n",
    "    \n",
    "    params:\n",
    "        a: Vector \n",
    "        b: Vector\n",
    "    returns:\n",
    "        x_1 * y_1 + x_2 * y_2 + ... + x_n * y_n \n",
    "    ''' \n",
    "#     raise NotImplementedError\n",
    "    acc = 0\n",
    "    for i in range(len(a)):\n",
    "        acc += a[i] * b[i]\n",
    "    return acc\n",
    "\n",
    "# Testing\n",
    "np.testing.assert_array_almost_equal(vec_dot(x,y), np.dot(x,y), verbose=True)\n",
    "print(vec_dot(x,y))"
   ]
  },
  {
   "cell_type": "markdown",
   "metadata": {
    "slideshow": {
     "slide_type": "slide"
    }
   },
   "source": [
    "### Matrix Multiplication"
   ]
  },
  {
   "cell_type": "code",
   "execution_count": 93,
   "metadata": {
    "slideshow": {
     "slide_type": "slide"
    }
   },
   "outputs": [
    {
     "name": "stdout",
     "output_type": "stream",
     "text": [
      "[[0, 0], [0, 0], [0, 0]]\n",
      "[[0, 0], [0, 0], [0, 0]]\n",
      "[[3321, 3078], [3240, 2187], [3483, 3078]]\n"
     ]
    }
   ],
   "source": [
    "def matrix_mult(A, B):\n",
    "    ''' Computes the product of two matrices: https://en.wikipedia.org/wiki/Matrix_multiplication \n",
    "    \n",
    "    params:\n",
    "        A: Matrix with dimensions NxP\n",
    "        A = ([4,4,5],\n",
    "             [2,1,7],\n",
    "             [4,8,3])\n",
    "             \n",
    "        B: Matrix with dimensions PxM\n",
    "        B = ([1,6],\n",
    "             [3,1],\n",
    "             [5,2])\n",
    "     \n",
    "    returns:\n",
    "        3x3 * 3x2 = 3x2\n",
    "        NxM matrix with each element c_i_j = a_i_1 * b_1_j + ... + a_i_p * b_p_j\n",
    "    ''' \n",
    "#     raise NotImplementedError\n",
    "    rows_A = len(A)\n",
    "    cols_A = len(A[0])\n",
    "    rows_B = len(B)\n",
    "    cols_B = len(B[0])\n",
    "\n",
    "    if cols_A != rows_B:\n",
    "      print(\"Cannot multiply the two matrices. Incorrect dimensions.\")\n",
    "      return\n",
    "\n",
    "    # Create the result matrix\n",
    "    # Dimensions would be rows_A x cols_B\n",
    "    acc = [[0 for row in range(cols_B)] for col in range(rows_A)]\n",
    "    print(acc)\n",
    "\n",
    "    for i in range(rows_A):\n",
    "        for j in range(cols_B):\n",
    "            for k in range(cols_A):\n",
    "                acc[i][j] += A[i][k] * B[k][j]\n",
    "    return acc\n",
    "            \n",
    "# Testing\n",
    "np.testing.assert_array_almost_equal(matrix_mult(A,B), np.matmul(A,B), verbose=True)\n",
    "print(matrix_mult(A,B))"
   ]
  },
  {
   "cell_type": "markdown",
   "metadata": {
    "slideshow": {
     "slide_type": "slide"
    }
   },
   "source": [
    "### Transpose"
   ]
  },
  {
   "cell_type": "code",
   "execution_count": 92,
   "metadata": {
    "slideshow": {
     "slide_type": "slide"
    }
   },
   "outputs": [
    {
     "name": "stdout",
     "output_type": "stream",
     "text": [
      "[[0, 0, 0], [0, 0, 0], [0, 0, 0]]\n",
      "([324, 324, 405], [162, 81, 567], [324, 648, 243])\n",
      "[[0, 0, 0], [0, 0, 0], [0, 0, 0]]\n",
      "[[324, 162, 324], [324, 81, 648], [405, 567, 243]]\n"
     ]
    }
   ],
   "source": [
    "def matrix_transpose(A):\n",
    "    ''' Flips the matrix over its diagonal, switches the row and column indices of the matrix: https://en.wikipedia.org/wiki/Transpose\n",
    "    \n",
    "    params:\n",
    "        A: Matrix \n",
    "        A = ([4,4,5],\n",
    "             [2,1,7],\n",
    "             [4,8,3])\n",
    "    returns:\n",
    "        Transpose A^T of given matrix A\n",
    "        AT  4,2,4\n",
    "            4,1,8\n",
    "            5,7,3\n",
    "    ''' \n",
    "#     raise NotImplementedError\n",
    "    rows_A = len(A)\n",
    "    cols_A = len(A[0])\n",
    "    acc = [[0 for row in range(cols_A)] for col in range(rows_A)]\n",
    "    print(acc)\n",
    "    \n",
    "    for i in range(rows_A):\n",
    "        for j in range(cols_A):\n",
    "            acc[j][i] = A[i][j]\n",
    "            \n",
    "    return acc\n",
    "\n",
    "# Testing\n",
    "np.testing.assert_array_almost_equal(matrix_transpose(A), np.transpose(A), verbose=True)\n",
    "print(A)\n",
    "print(matrix_transpose(A))"
   ]
  },
  {
   "cell_type": "markdown",
   "metadata": {
    "slideshow": {
     "slide_type": "slide"
    }
   },
   "source": [
    "## Summary and Outlook\n",
    "\n",
    "This exercise covered basic operations on vectors and matrices. If the exercise was too complicated, consider the sources mentioned above for a recap. "
   ]
  },
  {
   "cell_type": "markdown",
   "metadata": {
    "slideshow": {
     "slide_type": "slide"
    }
   },
   "source": [
    "## Licenses\n",
    "\n",
    "### Notebook License (CC-BY-SA 4.0)\n",
    "\n",
    "*The following license applies to the complete notebook, including code cells. It does however not apply to any referenced external media (e.g., images).*\n",
    "\n",
    "Exercise: Matrix and Vector Operations <br/>\n",
    "by Benjamin Voigt <br/>\n",
    "is licensed under a [Creative Commons Attribution-ShareAlike 4.0 International License](http://creativecommons.org/licenses/by-sa/4.0/).<br/>\n",
    "Based on a work at https://gitlab.com/deep.TEACHING.\n",
    "\n",
    "\n",
    "### Code License (MIT)\n",
    "\n",
    "*The following license only applies to code cells of the notebook.*\n",
    "\n",
    "Copyright 2018 Benjamin Voigt\n",
    "\n",
    "Permission is hereby granted, free of charge, to any person obtaining a copy of this software and associated documentation files (the \"Software\"), to deal in the Software without restriction, including without limitation the rights to use, copy, modify, merge, publish, distribute, sublicense, and/or sell copies of the Software, and to permit persons to whom the Software is furnished to do so, subject to the following conditions:\n",
    "\n",
    "The above copyright notice and this permission notice shall be included in all copies or substantial portions of the Software.\n",
    "\n",
    "THE SOFTWARE IS PROVIDED \"AS IS\", WITHOUT WARRANTY OF ANY KIND, EXPRESS OR IMPLIED, INCLUDING BUT NOT LIMITED TO THE WARRANTIES OF MERCHANTABILITY, FITNESS FOR A PARTICULAR PURPOSE AND NONINFRINGEMENT. IN NO EVENT SHALL THE AUTHORS OR COPYRIGHT HOLDERS BE LIABLE FOR ANY CLAIM, DAMAGES OR OTHER LIABILITY, WHETHER IN AN ACTION OF CONTRACT, TORT OR OTHERWISE, ARISING FROM, OUT OF OR IN CONNECTION WITH THE SOFTWARE OR THE USE OR OTHER DEALINGS IN THE SOFTWARE."
   ]
  }
 ],
 "metadata": {
  "celltoolbar": "Slideshow",
  "kernelspec": {
   "display_name": "Python 3",
   "language": "python",
   "name": "python3"
  },
  "language_info": {
   "codemirror_mode": {
    "name": "ipython",
    "version": 3
   },
   "file_extension": ".py",
   "mimetype": "text/x-python",
   "name": "python",
   "nbconvert_exporter": "python",
   "pygments_lexer": "ipython3",
   "version": "3.6.6"
  }
 },
 "nbformat": 4,
 "nbformat_minor": 2
}
