{
 "cells": [
  {
   "cell_type": "markdown",
   "metadata": {},
   "source": [
    "# ML-Fundamentals - Neural Networks - Exercise: Minimal Fully Connected Network for MNIST"
   ]
  },
  {
   "cell_type": "markdown",
   "metadata": {},
   "source": [
    "## Table of Contents\n",
    "* [Requirements](#Requirements) \n",
    "  * [Modules](#Python-Modules) \n",
    "  * [Data](#Data)\n",
    "* [Simple MNIST Network](#Simple-MNIST-Network)\n",
    "  * [Todo: Transparency](#Todo:-Transparency)\n",
    "  * [Todo: Comprehension](#Todo:-Comprehension)\n",
    "  * [Todo: Step towards a NN-Framework](#Todo:-Step-towards-a-NN-Framework)"
   ]
  },
  {
   "cell_type": "markdown",
   "metadata": {},
   "source": [
    "# Requirements\n"
   ]
  },
  {
   "cell_type": "markdown",
   "metadata": {},
   "source": [
    "## Python-Modules"
   ]
  },
  {
   "cell_type": "code",
   "execution_count": 2,
   "metadata": {},
   "outputs": [],
   "source": [
    "# third party\n",
    "import numpy as np\n",
    "import matplotlib.pyplot as plt\n",
    "\n",
    "# internal\n",
    "from deep_teaching_commons.data.fundamentals.mnist import Mnist\n",
    "\n",
    "# from sklearn.datasets import fetch_mldata"
   ]
  },
  {
   "cell_type": "markdown",
   "metadata": {},
   "source": [
    "## Data"
   ]
  },
  {
   "cell_type": "code",
   "execution_count": 3,
   "metadata": {},
   "outputs": [
    {
     "name": "stdout",
     "output_type": "stream",
     "text": [
      "auto download is active, attempting download\n",
      "mnist data directory already exists, download aborted\n"
     ]
    }
   ],
   "source": [
    "# create mnist loader from deep_teaching_commons\n",
    "mnist_loader = Mnist(data_dir='data')\n",
    "\n",
    "# load all data, labels are one-hot-encoded, images are flatten and pixel squashed between [0,1]\n",
    "train_images, train_labels, test_images, test_labels = mnist_loader.get_all_data(one_hot_enc=True,normalized=True)\n",
    "\n",
    "# shuffle training data\n",
    "shuffle_index = np.random.permutation(60000)\n",
    "train_images, train_labels = train_images[shuffle_index], train_labels[shuffle_index]"
   ]
  },
  {
   "cell_type": "markdown",
   "metadata": {},
   "source": [
    "# Simple MNIST Network\n",
    "The presented network is an adaptation of Michael Nielson's introductory example to neural networks. It is recommended, though not necessary, to read the first two chapters of his great online book ['Neural Networks and Deep Learning'](http://neuralnetworksanddeeplearning.com/) for a better understanding of the given example. Compared to the [original](https://github.com/mnielsen/neural-networks-and-deep-learning/blob/master/src/network.py) by Nielsen, the present variant was vectorized and the sigmoid activation function replaced by a rectified linear unit function (ReLU). As a result, the code is written much more compact, and the optimization of the model is much more efficient. "
   ]
  },
  {
   "cell_type": "markdown",
   "metadata": {},
   "source": [
    "## Todo: Transparency\n",
    "Your goal is to understand how the implementation works. Therefore you can do the following:\n",
    "  - Add comments to functions and lines of code. Follow the [Google-Pyhton](https://google.github.io/styleguide/pyguide.html) guidelines for comments.\n",
    "  - Add a verbose argument (`boolean`) to the functions that adds meaningful `print` lines to the network, if it is `true`.\n",
    "  - Add a variable `delta_hist` which store the delta value calculated on the output layer during each iteration of the function `grads(X,Y,weights)`. After the optimization process plot `delta_hist`.\n",
    "  \n",
    "Hopefully, this implementation of a neural network is clear after your investigation. You should be able to answer following questions:\n",
    "  - Which cost function is used, what is its derivation and how is it implemented?\n",
    "  - Why are the boundaries of your plot between [-1,0]\n",
    "  - why it is so noisy, how do you can reduce the noice \n",
    "  - and what is the difference to a usual plot of a loss function?\n",
    "  - How does the network implement the backpropagation algorithm?"
   ]
  },
  {
   "cell_type": "code",
   "execution_count": 4,
   "metadata": {},
   "outputs": [],
   "source": [
    "# https://brilliant.org/wiki/backpropagation/\n",
    "# https://stats.stackexchangecom/questions/154879/a-list-of-cost-functions-used-in-neural-networks-alongside-applications"
   ]
  },
  {
   "cell_type": "code",
   "execution_count": 11,
   "metadata": {},
   "outputs": [
    {
     "name": "stdout",
     "output_type": "stream",
     "text": [
      "0 0.9412\n",
      "1 0.9558\n",
      "2 0.9629\n",
      "3 0.967\n",
      "4 0.9695\n",
      "5 0.9701\n",
      "6 0.9714\n",
      "7 0.9717\n",
      "8 0.9724\n",
      "9 0.9733\n"
     ]
    },
    {
     "data": {
      "image/png": "[encoded data removed]",
      "text/plain": [
       "<Figure size 432x288 with 1 Axes>"
      ]
     },
     "metadata": {
      "needs_background": "light"
     },
     "output_type": "display_data"
    }
   ],
   "source": [
    "delta_hist =[]\n",
    "\n",
    "# 784 input, 200 hidden layer neurons >> H1, H2 = 100, out = 10\n",
    "# 3 layer net\n",
    "layers = [(784, 200), (200,100), (100, 10)]\n",
    "\n",
    "# sigma (X * W) = activation\n",
    "def feed_forward(X, weights):\n",
    "    a = [X]\n",
    "        \n",
    "    # max() activation function\n",
    "    # rectified linear ReLU have derivative 0 or ct.\n",
    "    for w in weights:\n",
    "        a.append(np.maximum(a[-1].dot(w), 0))\n",
    "    \n",
    "    return a\n",
    "\n",
    "def grads(X, Y, weights):\n",
    "    \n",
    "    # gradient init (to be applyed on W)\n",
    "    grads = np.empty_like(weights)\n",
    "    \n",
    "    # net out\n",
    "    a = feed_forward(X, weights) \n",
    "    \n",
    "    # delta between net out and desired out >> last element in a\n",
    "    # I_a = [0, 1]\n",
    "    delta = a[-1] - Y\n",
    "    \n",
    "    # mean square error loss, old style\n",
    "    # hot encoding mult removes falses\n",
    "    delta_hist.append(np.sum(delta*Y) / len(X))\n",
    "    \n",
    "    \n",
    "    grads[-1] = a[-2].T.dot(delta)\n",
    "    \n",
    "    for i in range(len(a)-2, 0, -1):\n",
    "        delta = (a[i] > 0) * delta.dot(weights[i].T)\n",
    "        grads[i-1] = a[i-1].T.dot(delta)\n",
    "    return grads / len(X)\n",
    "\n",
    "# shortcuts\n",
    "trX, trY, teX, teY = train_images, train_labels, test_images, test_labels\n",
    "\n",
    "# neurons: in>>200, hid>>100, out>>10\n",
    "# net architecture: 784 input pixel\n",
    "# adjustable, play with me\n",
    "weights = [np.random.randn(*w) * 0.1 for w in layers]\n",
    "# print(weights[0][0][:5])\n",
    "\n",
    "num_epochs, batch_size, learn_rate = 10, 50, 0.1\n",
    "\n",
    "for i in range(num_epochs):\n",
    "    for j in range(0, len(trX), batch_size):\n",
    "        \n",
    "        # slicing the XY\n",
    "        X, Y = trX[j : j+batch_size], trY[j : j+batch_size]\n",
    "        \n",
    "        # update W\n",
    "        weights -= learn_rate * grads(X, Y, weights)\n",
    "        once = False\n",
    "        \n",
    "    prediction_test = np.argmax(feed_forward(teX, weights)[-1], axis=1)\n",
    "    print (i, np.mean(prediction_test == np.argmax(teY, axis=1)))\n",
    "    plt.plot(delta_hist)"
   ]
  },
  {
   "cell_type": "markdown",
   "metadata": {},
   "source": [
    "## Todo: Step towards a NN-Framework\n",
    "The presented implementation is compact and efficient, but hard to modify or extend. However, a modular design is crucial if you want to experiment with a neural network to understand the influence of its components. Now you make the first changes towards your own 'toy-neural-network-framework', which you should expand in the progress of the course. \n",
    "\n",
    "Rework the implementation from above given the classes and methods below. Again, you _do not_ have to re-engineer the whole neural network at this step. Rework the code to match the given specification and do necessary modifications only. For your understanding, you can change the names of the variables to more fitting ones."
   ]
  },
  {
   "cell_type": "code",
   "execution_count": 34,
   "metadata": {},
   "outputs": [],
   "source": [
    "class FullyConnectedNetwork:\n",
    "    def __init__(self, layers):\n",
    "        self.num_layers = len(layers)\n",
    "        self.layers = layers\n",
    "        self.weights = [np.random.randn(*w) * 0.1 for w in layers]\n",
    "        self.delta_hist = []\n",
    "        \n",
    "    def forward(self, data):\n",
    "        a = [data]\n",
    "        for w in self.weights:\n",
    "            a.append(np.maximum(a[-1].dot(w), 0))            \n",
    "        return a\n",
    "\n",
    "    def backward(self, X, Y): #berechnet den gradienten\n",
    "        grads = np.empty_like(self.weights)\n",
    "        a = self.forward(X) #bestimmt den gradienten mit?\n",
    "        #kosten? werden sehr langsam immer kleiner\n",
    "        delta = a[-1] - Y\n",
    "        self.delta_hist.append(np.sum(delta*Y)/len(X))\n",
    "        grads[-1] = a[-2].T.dot(delta)\n",
    "        \n",
    "        for i in range(len(a)-2, 0, -1):\n",
    "            delta = (a[i] > 0) * delta.dot(self.weights[i].T) #eingebaute Max-Aktivierungsfunktion?\n",
    "            grads[i-1] = a[i-1].T.dot(delta)\n",
    "        return grads / len(X)\n",
    "\n",
    "    def predict(self, data):\n",
    "        return self.forward(data)"
   ]
  },
  {
   "cell_type": "code",
   "execution_count": 42,
   "metadata": {},
   "outputs": [],
   "source": [
    "class Optimizer:\n",
    "    # error checken und gradienten bestimmen?\n",
    "    def __init__(self, network, train_data, train_labels, \n",
    "                 test_data=None, test_labels=None, epochs=100, \n",
    "                 batch_size=20, learning_rate=0.01):\n",
    "        self.network = network\n",
    "        self.train_data = train_data\n",
    "        self.train_labels = train_labels\n",
    "        self.test_data = test_data\n",
    "        self.test_labels = test_labels\n",
    "        self.epochs = epochs\n",
    "        self.batch_size = batch_size\n",
    "        self.alpha = learning_rate             \n",
    "        \n",
    "    #stochastic gradient descent /update rule?)\n",
    "    def sgd(self):\n",
    "        for i in range(self.epochs):\n",
    "            for j in range(0, len(self.train_data), self.batch_size):\n",
    "                X, Y = self.train_data[j:j + self.batch_size], self.train_labels[j:j + self.batch_size]\n",
    "                self.network.weights -= self.alpha * self.network.backward(X, Y)\n",
    "\n",
    "            prediction_test = np.argmax(self.network.predict(self.test_data)[-1], axis=1)\n",
    "#             if verbose: \n",
    "            print ('Epoch:', i, 'Accuracy:', np.mean(prediction_test == np.argmax(self.test_labels, axis=1)), 'Delta:', self.network.delta_hist[-1])"
   ]
  },
  {
   "cell_type": "code",
   "execution_count": 43,
   "metadata": {},
   "outputs": [
    {
     "name": "stdout",
     "output_type": "stream",
     "text": [
      "Epoch: 0 Accuracy: 0.8687 Delta: -0.27423509555815484\n",
      "Epoch: 1 Accuracy: 0.8978 Delta: -0.2204095103726765\n",
      "Epoch: 2 Accuracy: 0.9117 Delta: -0.1946329495825991\n",
      "Epoch: 3 Accuracy: 0.9221 Delta: -0.17793950164002945\n",
      "Epoch: 4 Accuracy: 0.9276 Delta: -0.16503685792346182\n",
      "Epoch: 5 Accuracy: 0.9329 Delta: -0.15490056267762367\n",
      "Epoch: 6 Accuracy: 0.9373 Delta: -0.14602454966419984\n",
      "Epoch: 7 Accuracy: 0.9398 Delta: -0.13937730362875517\n",
      "Epoch: 8 Accuracy: 0.9421 Delta: -0.13319094478573304\n",
      "Epoch: 9 Accuracy: 0.9443 Delta: -0.12800966075839879\n",
      "Epoch: 10 Accuracy: 0.9459 Delta: -0.12365730722770109\n",
      "Epoch: 11 Accuracy: 0.9474 Delta: -0.11974327596099107\n",
      "Epoch: 12 Accuracy: 0.9483 Delta: -0.11588472357989221\n",
      "Epoch: 13 Accuracy: 0.9496 Delta: -0.11228042879430762\n",
      "Epoch: 14 Accuracy: 0.9512 Delta: -0.1087226357220593\n",
      "Epoch: 15 Accuracy: 0.9521 Delta: -0.10569651791970806\n",
      "Epoch: 16 Accuracy: 0.9531 Delta: -0.10273052216425381\n",
      "Epoch: 17 Accuracy: 0.9541 Delta: -0.1003554495746715\n",
      "Epoch: 18 Accuracy: 0.955 Delta: -0.09817758779283911\n",
      "Epoch: 19 Accuracy: 0.9561 Delta: -0.09618177253693591\n"
     ]
    },
    {
     "data": {
      "text/plain": [
       "[<matplotlib.lines.Line2D at 0x7ff35b3594a8>]"
      ]
     },
     "execution_count": 43,
     "metadata": {},
     "output_type": "execute_result"
    },
    {
     "data": {
      "image/png": "[encoded data removed]",
      "text/plain": [
       "<Figure size 432x288 with 1 Axes>"
      ]
     },
     "metadata": {
      "needs_background": "light"
     },
     "output_type": "display_data"
    }
   ],
   "source": [
    "mnist_NN = FullyConnectedNetwork(layers)  #3x2 matrix\n",
    "epochs, batch_size, learning_rate = 20, 500, 0.1\n",
    "Optimizer(mnist_NN, train_images, train_labels, test_images, \n",
    "          test_labels, epochs, batch_size, learning_rate).sgd()\n",
    "\n",
    "plt.plot(mnist_NN.delta_hist)"
   ]
  },
  {
   "cell_type": "code",
   "execution_count": 37,
   "metadata": {},
   "outputs": [
    {
     "name": "stdout",
     "output_type": "stream",
     "text": [
      "784 200\n",
      "200 100\n",
      "100 10\n"
     ]
    }
   ],
   "source": [
    "for a,b in layers:\n",
    "    print(a,b)"
   ]
  }
 ],
 "metadata": {
  "kernelspec": {
   "display_name": "Python 3",
   "language": "python",
   "name": "python3"
  },
  "language_info": {
   "codemirror_mode": {
    "name": "ipython",
    "version": 3
   },
   "file_extension": ".py",
   "mimetype": "text/x-python",
   "name": "python",
   "nbconvert_exporter": "python",
   "pygments_lexer": "ipython3",
   "version": "3.6.6"
  }
 },
 "nbformat": 4,
 "nbformat_minor": 2
}
