{
 "cells": [
  {
   "cell_type": "markdown",
   "metadata": {},
   "source": [
    "# ML-Fundamentals - Neural Networks - Exercise: Minimal Fully Connected Network for MNIST"
   ]
  },
  {
   "cell_type": "markdown",
   "metadata": {},
   "source": [
    "## Table of Contents\n",
    "* [Requirements](#Requirements) \n",
    "  * [Modules](#Python-Modules) \n",
    "  * [Data](#Data)\n",
    "* [Simple MNIST Network](#Simple-MNIST-Network)\n",
    "  * [Todo: Transparency](#Todo:-Transparency)\n",
    "  * [Todo: Comprehension](#Todo:-Comprehension)\n",
    "  * [Todo: Step towards a NN-Framework](#Todo:-Step-towards-a-NN-Framework)"
   ]
  },
  {
   "cell_type": "markdown",
   "metadata": {},
   "source": [
    "# Requirements\n"
   ]
  },
  {
   "cell_type": "markdown",
   "metadata": {},
   "source": [
    "## Python-Modules"
   ]
  },
  {
   "cell_type": "code",
   "execution_count": 2,
   "metadata": {},
   "outputs": [],
   "source": [
    "# third party\n",
    "import numpy as np\n",
    "import matplotlib.pyplot as plt\n",
    "\n",
    "# internal\n",
    "from deep_teaching_commons.data.fundamentals.mnist import Mnist"
   ]
  },
  {
   "cell_type": "markdown",
   "metadata": {},
   "source": [
    "## Data"
   ]
  },
  {
   "cell_type": "code",
   "execution_count": 3,
   "metadata": {},
   "outputs": [
    {
     "name": "stdout",
     "output_type": "stream",
     "text": [
      "auto download is active, attempting download\n",
      "data directory does not exist, starting download...\n",
      "train-images-idx3-ubyte.gz successfully downloaded\n",
      "train-labels-idx1-ubyte.gz successfully downloaded\n",
      "t10k-images-idx3-ubyte.gz successfully downloaded\n",
      "t10k-labels-idx1-ubyte.gz successfully downloaded\n",
      "... mnist data completely downloaded, enjoy.\n"
     ]
    }
   ],
   "source": [
    "# create mnist loader from deep_teaching_commons\n",
    "mnist_loader = Mnist(data_dir='data')\n",
    "\n",
    "# load all data, labels are one-hot-encoded, images are flatten and pixel squashed between [0,1]\n",
    "train_images, train_labels, test_images, test_labels = mnist_loader.get_all_data(one_hot_enc=True, normalized=True)\n",
    "\n",
    "# shuffle training data\n",
    "shuffle_index = np.random.permutation(60000)\n",
    "train_images, train_labels = train_images[shuffle_index], train_labels[shuffle_index]"
   ]
  },
  {
   "cell_type": "markdown",
   "metadata": {},
   "source": [
    "# Simple MNIST Network\n",
    "The presented network is an adaptation of Michael Nielson's introductory example to neural networks. It is recommended, though not necessary, to read the first two chapters of his great online book ['Neural Networks and Deep Learning'](http://neuralnetworksanddeeplearning.com/) for a better understanding of the given example. Compared to the [original](https://github.com/mnielsen/neural-networks-and-deep-learning/blob/master/src/network.py) by Nielsen, the present variant was vectorized and the sigmoid activation function replaced by a rectified linear unit function (ReLU). As a result, the code is written much more compact, and the optimization of the model is much more efficient. "
   ]
  },
  {
   "cell_type": "markdown",
   "metadata": {},
   "source": [
    "## Todo: Transparency\n",
    "Your goal is to understand how the implementation works. Therefore you can do the following:\n",
    "  - Add comments to functions and lines of code. Follow the [Google-Pyhton](https://google.github.io/styleguide/pyguide.html) guidelines for comments.\n",
    "  - Add a verbose argument (`boolean`) to the functions that adds meaningful `print` lines to the network, if it is `true`.\n",
    "  - Add a variable `delta_hist` which store the delta value calculated on the output layer during each iteration of the function `grads(X,Y,weights)`. After the optimization process plot `delta_hist`.\n",
    "  \n",
    "Hopefully, this implementation of a neural network is clear after your investigation. You should be able to answer following questions:\n",
    "  - Which cost function is used, what is its derivation and how is it implemented?\n",
    "  - Why are the boundaries of your plot between [-1,0], why it is so noisy, how do you can reduce the noice and what is the difference to a usual plot of a loss function?\n",
    "  - How does the network implement the backpropagation algorithm?"
   ]
  },
  {
   "cell_type": "code",
   "execution_count": 6,
   "metadata": {},
   "outputs": [
    {
     "name": "stdout",
     "output_type": "stream",
     "text": [
      "1 0.9443\n",
      "2 0.9561\n",
      "3 0.9617\n",
      "4 0.9639\n",
      "5 0.9662\n",
      "6 0.9682\n",
      "7 0.9697\n",
      "8 0.971\n",
      "9 0.972\n",
      "10 0.9727\n",
      "11 0.9732\n",
      "12 0.9731\n",
      "13 0.9745\n",
      "14 0.9753\n",
      "15 0.9762\n",
      "16 0.9766\n",
      "17 0.9771\n",
      "18 0.9772\n",
      "19 0.9774\n",
      "20 0.9777\n"
     ]
    }
   ],
   "source": [
    "delta_hist =[] #history of the middled deltas\n",
    "\n",
    "def feed_forward(X, weights):\n",
    "    \"\"\"Calculates the prediction for X with the given weights using ReLu\n",
    "    \n",
    "    \"\"\"\n",
    "    a = [X]\n",
    "    for w in weights:\n",
    "        a.append(np.maximum(a[-1].dot(w),0))\n",
    "    return a\n",
    "\n",
    "def grads(X, Y, weights):\n",
    "    \"\"\"Calculates the gradients for the given weights\n",
    "    \"\"\"\n",
    "    grads = np.empty_like(weights) # initialize with the size of weights since we're gonna have one grad per weight\n",
    "    a = feed_forward(X, weights)\n",
    "    # https://brilliant.org/wiki/backpropagation/ or https://stats.stackexchange.com/questions/154879/a-list-of-cost-functions-used-in-neural-networks-alongside-applications\n",
    "    delta = a[-1] - Y\n",
    "    delta_hist.append(np.sum(delta*Y)/len(X)) #mean squared error loss\n",
    "    grads[-1] = a[-2].T.dot(delta) #Warum??\n",
    "    for i in range(len(a)-2, 0, -1):\n",
    "        delta = (a[i] > 0) * delta.dot(weights[i].T) #go backwards and pass through delta\n",
    "        grads[i-1] = a[i-1].T.dot(delta)\n",
    "    return grads / len(X)\n",
    "\n",
    "trX, trY, teX, teY = train_images, train_labels, test_images, test_labels\n",
    "weights = [np.random.randn(*w) * 0.1 for w in [(784, 200), (200,100), (100, 10)]] #init with random weights\n",
    "num_epochs, batch_size, learn_rate = 20, 50, 0.1 #batch size: Number of training examples used in one go\n",
    "for i in range(num_epochs):\n",
    "    for j in range(0, len(trX), batch_size):\n",
    "        X, Y = trX[j:j+batch_size], trY[j:j+batch_size] #take values of batch\n",
    "        weights -= learn_rate * grads(X, Y, weights) #apply gradient to the weights\n",
    "        once = False\n",
    "    prediction_test = np.argmax(feed_forward(teX, weights)[-1], axis=1) #test the function \n",
    "    print (i + 1, np.mean(prediction_test == np.argmax(teY, axis=1))) #keine Ahnung welche Aussage dieser Mittelwert haben soll"
   ]
  },
  {
   "cell_type": "markdown",
   "metadata": {},
   "source": [
    "## Todo: Step towards a NN-Framework\n",
    "The presented implementation is compact and efficient, but hard to modify or extend. However, a modular design is crucial if you want to experiment with a neural network to understand the influence of its components. Now you make the first changes towards your own 'toy-neural-network-framework', which you should expand in the progress of the course. \n",
    "\n",
    "Rework the implementation from above given the classes and methods below. Again, you _do not_ have to re-engineer the whole neural network at this step. Rework the code to match the given specification and do necessary modifications only. For your understanding, you can change the names of the variables to more fitting ones."
   ]
  },
  {
   "cell_type": "code",
   "execution_count": 15,
   "metadata": {},
   "outputs": [
    {
     "data": {
      "text/plain": [
       "[<matplotlib.lines.Line2D at 0x10cc77208>]"
      ]
     },
     "execution_count": 15,
     "metadata": {},
     "output_type": "execute_result"
    },
    {
     "data": {
      "image/png": "[encoded data removed]",
      "text/plain": [
       "<matplotlib.figure.Figure at 0x10ca87940>"
      ]
     },
     "metadata": {},
     "output_type": "display_data"
    }
   ],
   "source": [
    "class FullyConnectedNetwork:\n",
    "    def __init__(self, layers):\n",
    "        self.delta_hist = []\n",
    "        self.weights = [np.random.randn(*w) * 0.1 for w in layers]\n",
    "        \n",
    "    def forward(self, data):\n",
    "        a = [data]\n",
    "        for w in self.weights:\n",
    "            a.append(np.maximum(a[-1].dot(w),0))\n",
    "        return a\n",
    "\n",
    "    def backward(self, X, Y):\n",
    "        grads = np.empty_like(self.weights)\n",
    "        a = self.forward(X)\n",
    "        \n",
    "        delta = a[-1] - Y\n",
    "        self.delta_hist.append(np.sum(delta*Y)/len(X))\n",
    "        grads[-1] = a[-2].T.dot(delta)\n",
    "        for i in range(len(a)-2, 0, -1):\n",
    "            delta = (a[i] > 0) * delta.dot(self.weights[i].T)\n",
    "            grads[i-1] = a[i-1].T.dot(delta)\n",
    "        return grads / len(X)\n",
    "\n",
    "    def predict(self, data):\n",
    "        return np.argmax(forward(data)[-1], axis=1)\n",
    "            \n",
    "class Optimizer:\n",
    "    def __init__(self, network, train_data, train_labels, test_data=None, test_labels=None, epochs=100, batch_size=20, learning_rate=0.01):\n",
    "        for i in range(num_epochs):\n",
    "            for j in range(0, len(train_data), batch_size):\n",
    "                X, Y = train_data[j:j+batch_size], train_labels[j:j+batch_size] #take values of batch\n",
    "                network.weights -= learn_rate * network.backward(X, Y) #apply gradient to the weights\n",
    "                once = False\n",
    "        #sgd()\n",
    "        \n",
    "    def sgd(self):\n",
    "        for i in range(num_epochs):\n",
    "            for j in range(0, len(train_data), batch_size):\n",
    "                X, Y = train_data[j:j+batch_size], train_labels[j:j+batch_size] #take values of batch\n",
    "                network.weights -= learn_rate * network.backward(X, Y) #apply gradient to the weights\n",
    "                once = False\n",
    "        return None\n",
    "\n",
    "    \n",
    "# Following code should run:    \n",
    "mnist_NN = FullyConnectedNetwork([(784, 200),(200,100),(100, 10)]) \n",
    "epochs, batch_size, learning_rate = 20, 500, 0.1\n",
    "Optimizer(mnist_NN, train_images, train_labels, test_images, test_labels, epochs, batch_size, learning_rate)\n",
    "plt.plot(mnist_NN.delta_hist)"
   ]
  },
  {
   "cell_type": "code",
   "execution_count": null,
   "metadata": {},
   "outputs": [],
   "source": []
  },
  {
   "cell_type": "code",
   "execution_count": null,
   "metadata": {},
   "outputs": [],
   "source": []
  },
  {
   "cell_type": "code",
   "execution_count": null,
   "metadata": {},
   "outputs": [],
   "source": []
  }
 ],
 "metadata": {
  "kernelspec": {
   "display_name": "Python 3",
   "language": "python",
   "name": "python3"
  },
  "language_info": {
   "codemirror_mode": {
    "name": "ipython",
    "version": 3
   },
   "file_extension": ".py",
   "mimetype": "text/x-python",
   "name": "python",
   "nbconvert_exporter": "python",
   "pygments_lexer": "ipython3",
   "version": "3.6.6"
  }
 },
 "nbformat": 4,
 "nbformat_minor": 2
}
